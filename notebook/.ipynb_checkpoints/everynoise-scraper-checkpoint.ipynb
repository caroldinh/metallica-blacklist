{
 "cells": [
  {
   "cell_type": "code",
   "execution_count": 1,
   "id": "c96afc95-a07a-4d2a-833e-07fdf261aef1",
   "metadata": {},
   "outputs": [],
   "source": [
    "import json\n",
    "import requests\n",
    "from bs4 import BeautifulSoup"
   ]
  },
  {
   "cell_type": "code",
   "execution_count": 24,
   "id": "65b55543-4537-4b7d-8eb6-5ff0bade33a4",
   "metadata": {},
   "outputs": [],
   "source": [
    "f = open(\"all-artists.txt\", \"r\")\n",
    "ALL_ARTISTS = json.loads(f.read())\n",
    "f.close()\n",
    "\n",
    "genre_info = {}\n",
    "\n",
    "for artist in ALL_ARTISTS:\n",
    "    for genre in artist['genres']:\n",
    "        if not(genre in genre_info):\n",
    "            genre_info_entry = {\"frequency\": 1, \"average_age\": 0, \"percent_female\": 0}\n",
    "            genre_info[genre] = genre_info_entry\n",
    "        else:\n",
    "            genre_info[genre][\"frequency\"] += 1"
   ]
  },
  {
   "cell_type": "code",
   "execution_count": 25,
   "id": "7747cac7-cc1e-4951-8acb-c51702103378",
   "metadata": {},
   "outputs": [
    {
     "name": "stdout",
     "output_type": "stream",
     "text": [
      "Done\n"
     ]
    }
   ],
   "source": [
    "URL = \"https://web.archive.org/web/20231205070956/https://everynoise.com/everynoise1d.cgi?vector=youth&scope=all\"\n",
    "page = requests.get(URL)\n",
    "\n",
    "soup = BeautifulSoup(page.content, \"html.parser\")\n",
    "genres = soup.find_all(\"tr\")\n",
    "\n",
    "for genre in genres:\n",
    "    genre_details = genre.find_all(\"td\")\n",
    "    genre_name = genre_details[2].text\n",
    "    if (genre_name in genre_info):\n",
    "        average_age = float(genre_details[0].get(\"title\")[len(\"average age: \"):])\n",
    "        genre_info[genre_name]['average_age'] = average_age\n",
    "\n",
    "print(\"Done\")"
   ]
  },
  {
   "cell_type": "code",
   "execution_count": 26,
   "id": "3523139f-8d77-45a9-8dab-4169c90899d3",
   "metadata": {},
   "outputs": [
    {
     "name": "stdout",
     "output_type": "stream",
     "text": [
      "Done\n"
     ]
    }
   ],
   "source": [
    "URL = \"https://web.archive.org/web/20231207012321/https://everynoise.com/everynoise1d.cgi?vector=femininity&scope=all\"\n",
    "page = requests.get(URL)\n",
    "\n",
    "soup = BeautifulSoup(page.content, \"html.parser\")\n",
    "genres = soup.find_all(\"tr\")\n",
    "\n",
    "for genre in genres:\n",
    "    genre_details = genre.find_all(\"td\")\n",
    "    genre_name = genre_details[2].text\n",
    "    if (genre_name in genre_info):\n",
    "        female_listeners_raw = genre_details[0].get(\"title\")\n",
    "        percent_female = float(female_listeners_raw[len(\"female_listeners: \"):(len(female_listeners_raw) - 1)])\n",
    "        genre_info[genre_name]['percent_female'] = percent_female\n",
    "\n",
    "print(\"Done\")"
   ]
  },
  {
   "cell_type": "code",
   "execution_count": 29,
   "id": "0cfbe795-53b9-440b-be7f-aac6090f61e4",
   "metadata": {},
   "outputs": [],
   "source": [
    "f = open(\"genre_info.txt\", \"w\")\n",
    "f.write(json.dumps(genre_info, indent=4))\n",
    "f.close()"
   ]
  }
 ],
 "metadata": {
  "kernelspec": {
   "display_name": "Python 3 (ipykernel)",
   "language": "python",
   "name": "python3"
  },
  "language_info": {
   "codemirror_mode": {
    "name": "ipython",
    "version": 3
   },
   "file_extension": ".py",
   "mimetype": "text/x-python",
   "name": "python",
   "nbconvert_exporter": "python",
   "pygments_lexer": "ipython3",
   "version": "3.12.1"
  }
 },
 "nbformat": 4,
 "nbformat_minor": 5
}
