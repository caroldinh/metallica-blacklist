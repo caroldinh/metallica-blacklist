{
 "cells": [
  {
   "cell_type": "code",
   "execution_count": 4,
   "id": "d9d99f6b-9701-49ed-b1f7-64c16611ca4c",
   "metadata": {},
   "outputs": [],
   "source": [
    "import json\n",
    "import requests\n",
    "\n",
    "ACCESS_TOKEN = \"nope\"\n",
    "BLACKLIST_ID = \"73pUIoNvoi8m51Vg97CAKX\"\n",
    "GET_SIZE = 50"
   ]
  },
  {
   "cell_type": "code",
   "execution_count": 70,
   "id": "76a779be-734b-435b-b55c-4b4f452e2ab1",
   "metadata": {},
   "outputs": [],
   "source": [
    "blacklist_data1 = requests.get(f\"https://api.spotify.com/v1/albums/{BLACKLIST_ID}/tracks?limit={GET_SIZE}\", headers={\"Authorization\":f\"Bearer {ACCESS_TOKEN}\"})\n",
    "blacklist_data2 = requests.get(f\"https://api.spotify.com/v1/albums/{BLACKLIST_ID}/tracks?limit={GET_SIZE}&offset=50\", headers={\"Authorization\":f\"Bearer {ACCESS_TOKEN}\"})\n",
    "blacklist1 = json.loads(blacklist_data1.text)\n",
    "blacklist2 = json.loads(blacklist_data2.text)\n",
    "songs1 = blacklist1[\"items\"]\n",
    "songs2 = blacklist2[\"items\"]\n",
    "\n",
    "BLACKLIST_SONGS = songs1 + songs2\n",
    "\n",
    "f = open(\"all-songs.txt\", \"w\")\n",
    "f.write(json.dumps(BLACKLIST_SONGS, indent=4))\n",
    "f.close()"
   ]
  },
  {
   "cell_type": "code",
   "execution_count": 61,
   "id": "14d41089-e2c6-4426-a719-bed630f4697a",
   "metadata": {},
   "outputs": [],
   "source": [
    "ids_list=\"\"\n",
    "ids_array = []\n",
    "for song in BLACKLIST_SONGS:\n",
    "    ids_array.append(song[\"id\"])\n",
    "    ids_list += song[\"id\"] + \",\"\n",
    "ids_list = ids_list[0:len(ids_list)-1]\n",
    "\n",
    "song_data = requests.get(f\"https://api.spotify.com/v1/audio-features?ids={ids_list}\", headers={\"Authorization\":f\"Bearer {ACCESS_TOKEN}\"})"
   ]
  },
  {
   "cell_type": "code",
   "execution_count": 69,
   "id": "32686d78-d2a2-4f6f-868a-2f82c3c30461",
   "metadata": {},
   "outputs": [],
   "source": [
    "SONG_ANALYSIS = json.loads(song_data.text)\n",
    "#print(len(SONG_ANALYSIS['audio_features']))\n",
    "analysis_dict = {}\n",
    "\n",
    "i = 0\n",
    "for analysis in SONG_ANALYSIS['audio_features']:\n",
    "    analysis_dict[ids_array[i]] = analysis\n",
    "    i += 1\n",
    "\n",
    "#print(json.dumps(analysis_dict, indent=4))\n",
    "f = open(\"song_analyses.txt\", \"w\")\n",
    "f.write(json.dumps(analysis_dict, indent=4))\n",
    "f.close()"
   ]
  },
  {
   "cell_type": "code",
   "execution_count": 74,
   "id": "c436e032-7649-4cd0-8010-4a4b891a024d",
   "metadata": {},
   "outputs": [],
   "source": [
    "METALLICA_ID = \"55fq75UfkYbGMq4CncCtOH\"\n",
    "metallica_songs = requests.get(f\"https://api.spotify.com/v1/albums/{METALLICA_ID}/tracks?limit={GET_SIZE}\", headers={\"Authorization\":f\"Bearer {ACCESS_TOKEN}\"})\n",
    "METALLICA = json.loads(metallica_songs.text)[\"items\"]\n",
    "f = open(\"original_songs.txt\", \"w\")\n",
    "f.write(json.dumps(METALLICA, indent=4))\n",
    "f.close()"
   ]
  },
  {
   "cell_type": "code",
   "execution_count": 77,
   "id": "1d1b3094-baf6-4c64-b11a-3c1e60b170cd",
   "metadata": {},
   "outputs": [],
   "source": [
    "ids_list=\"\"\n",
    "ids_array = []\n",
    "for song in METALLICA:\n",
    "    ids_array.append(song[\"id\"])\n",
    "    ids_list += song[\"id\"] + \",\"\n",
    "ids_list = ids_list[0:len(ids_list)-1]\n",
    "\n",
    "metallica_data = requests.get(f\"https://api.spotify.com/v1/audio-features?ids={ids_list}\", headers={\"Authorization\":f\"Bearer {ACCESS_TOKEN}\"})\n",
    "\n",
    "METALLICA_ANALYSIS = json.loads(metallica_data.text)\n",
    "#print(len(SONG_ANALYSIS['audio_features']))\n",
    "original_analysis_dict = {}\n",
    "\n",
    "i = 0\n",
    "for analysis in METALLICA_ANALYSIS['audio_features']:\n",
    "    original_analysis_dict[ids_array[i]] = analysis\n",
    "    i += 1\n",
    "\n",
    "#print(json.dumps(analysis_dict, indent=4))\n",
    "f = open(\"original_song_analyses.txt\", \"w\")\n",
    "f.write(json.dumps(original_analysis_dict, indent=4))\n",
    "f.close()"
   ]
  },
  {
   "cell_type": "code",
   "execution_count": 37,
   "id": "e34da9ea-10e3-4296-86a2-423f2309ae3e",
   "metadata": {},
   "outputs": [],
   "source": [
    "for song in BLACKLIST_SONGS:\n",
    "    song_artists = \"\"\n",
    "    for artist in song['artists']:\n",
    "        song_artists += artist['name'] + \", \"\n",
    "    song_artists = song_artists[0:len(song_artists) - 2]\n",
    "    # print(song['name'] + \" by \" + song_artists)\n",
    "    # print(analysis_dict[song['id']])"
   ]
  },
  {
   "cell_type": "code",
   "execution_count": 5,
   "id": "28296f61-2087-4488-b86b-28ce305d0dcd",
   "metadata": {},
   "outputs": [],
   "source": [
    "f = open(\"all-songs.txt\", \"r\")\n",
    "BLACKLIST_SONGS = json.loads(f.read())\n",
    "f.close()\n",
    "\n",
    "f = open(\"song_analyses.txt\", \"r\")\n",
    "BLACKLIST_ANALYSIS = json.loads(f.read())\n",
    "f.close()\n",
    "\n",
    "f = open(\"original_songs.txt\", \"r\")\n",
    "METALLICA_SONGS = json.loads(f.read())\n",
    "f.close()\n",
    "\n",
    "f = open(\"original_song_analyses.txt\", \"r\")\n",
    "METALLICA_ANALYSIS = json.loads(f.read())\n",
    "f.close()"
   ]
  },
  {
   "cell_type": "code",
   "execution_count": 28,
   "id": "578f8191-86f8-4c91-b2a1-c3cd05be0e6d",
   "metadata": {},
   "outputs": [],
   "source": [
    "artist_ids = []\n",
    "artist_details = {}\n",
    "\n",
    "for song in BLACKLIST_SONGS:\n",
    "    for artist in song['artists']:\n",
    "        artist_ids.append(artist['id'])\n",
    "        \n",
    "artist_data1 = requests.get(f\"https://api.spotify.com/v1/artists?ids={\",\".join(artist_ids[0:50])}\", headers={\"Authorization\":f\"Bearer {ACCESS_TOKEN}\"})\n",
    "artist_data2 = requests.get(f\"https://api.spotify.com/v1/artists?ids={\",\".join(artist_ids[50:])}\", headers={\"Authorization\":f\"Bearer {ACCESS_TOKEN}\"})"
   ]
  },
  {
   "cell_type": "code",
   "execution_count": 36,
   "id": "4b8a8402-44fb-4c57-9215-5232d72dcbd2",
   "metadata": {},
   "outputs": [],
   "source": [
    "artists1 = json.loads(artist_data1.text)\n",
    "artists2 = json.loads(artist_data2.text)\n",
    "\n",
    "ALL_ARTISTS = artists1['artists'] + artists2['artists']\n",
    "\n",
    "f = open(\"all-artists.txt\", \"w\")\n",
    "f.write(json.dumps(ALL_ARTISTS, indent=4))\n",
    "f.close()"
   ]
  }
 ],
 "metadata": {
  "kernelspec": {
   "display_name": "Python 3 (ipykernel)",
   "language": "python",
   "name": "python3"
  },
  "language_info": {
   "codemirror_mode": {
    "name": "ipython",
    "version": 3
   },
   "file_extension": ".py",
   "mimetype": "text/x-python",
   "name": "python",
   "nbconvert_exporter": "python",
   "pygments_lexer": "ipython3",
   "version": "3.12.1"
  }
 },
 "nbformat": 4,
 "nbformat_minor": 5
}
