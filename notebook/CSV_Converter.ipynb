{
 "cells": [
  {
   "cell_type": "code",
   "execution_count": 1,
   "id": "ba637e3c-909b-4797-8f78-8c20490ac16e",
   "metadata": {},
   "outputs": [],
   "source": [
    "import json\n",
    "import math"
   ]
  },
  {
   "cell_type": "code",
   "execution_count": 3,
   "id": "e204524f-5776-4f2f-a5a4-339d4aff24db",
   "metadata": {},
   "outputs": [],
   "source": [
    "f = open(\"all-artists.txt\", \"r\")\n",
    "ALL_ARTISTS = json.loads(f.read())\n",
    "f.close()\n",
    "\n",
    "f = open(\"genre_info.txt\", \"r\")\n",
    "GENRE_INFO = json.loads(f.read())\n",
    "f.close()"
   ]
  },
  {
   "cell_type": "code",
   "execution_count": 18,
   "id": "0b7cfbe3-24bd-4c39-a53d-7c4d79776a69",
   "metadata": {},
   "outputs": [],
   "source": [
    "csv = \"Name,Spotify ID,Spotify Profile,Spotify Genres,Image URL,Popularity\"\n",
    "for artist in ALL_ARTISTS:\n",
    "    if(artist['name'] == \"Metallica\"):\n",
    "        pass\n",
    "    else:\n",
    "        genres = \"\"\n",
    "        for genre in artist['genres']:\n",
    "            genres = \",\".join(artist['genres'])\n",
    "        image = \"\"\n",
    "        if (len(artist['images']) > 0):\n",
    "            image = artist['images'][0]['url']\n",
    "        csv_line = f\"\\\"{artist['name']}\\\",{artist['id']},{artist['external_urls']['spotify']},\\\"{genres}\\\",{image},{artist['popularity']}\"\n",
    "        csv += \"\\n\" + csv_line\n",
    "    \n",
    "f = open(\"artist_data_master.csv\", \"w\")\n",
    "f.write(csv)\n",
    "f.close()"
   ]
  }
 ],
 "metadata": {
  "kernelspec": {
   "display_name": "Python 3 (ipykernel)",
   "language": "python",
   "name": "python3"
  },
  "language_info": {
   "codemirror_mode": {
    "name": "ipython",
    "version": 3
   },
   "file_extension": ".py",
   "mimetype": "text/x-python",
   "name": "python",
   "nbconvert_exporter": "python",
   "pygments_lexer": "ipython3",
   "version": "3.12.1"
  }
 },
 "nbformat": 4,
 "nbformat_minor": 5
}
