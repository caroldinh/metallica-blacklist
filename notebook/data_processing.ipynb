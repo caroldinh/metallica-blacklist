{
 "cells": [
  {
   "cell_type": "code",
   "execution_count": 28,
   "id": "b1062da5-a74a-4eb7-b56f-ef17d7f583ec",
   "metadata": {},
   "outputs": [],
   "source": [
    "import json\n",
    "import math"
   ]
  },
  {
   "cell_type": "code",
   "execution_count": 16,
   "id": "92dcce66-eda4-4b9a-bd2d-5f57e7286c91",
   "metadata": {},
   "outputs": [],
   "source": [
    "f = open(\"all-songs.txt\", \"r\")\n",
    "BLACKLIST_SONGS = json.loads(f.read())\n",
    "f.close()\n",
    "\n",
    "f = open(\"song_analyses.txt\", \"r\")\n",
    "BLACKLIST_ANALYSIS = json.loads(f.read())\n",
    "f.close()\n",
    "\n",
    "f = open(\"original_songs.txt\", \"r\")\n",
    "METALLICA_SONGS = json.loads(f.read())\n",
    "f.close()\n",
    "\n",
    "f = open(\"original_song_analyses.txt\", \"r\")\n",
    "METALLICA_ANALYSIS = json.loads(f.read())\n",
    "f.close()"
   ]
  },
  {
   "cell_type": "code",
   "execution_count": 12,
   "id": "ed54f6a6-b367-43b6-8e07-0ca3111f49e9",
   "metadata": {},
   "outputs": [],
   "source": [
    "# Create dictionary mapping song name to Spotify ID on Metallica (1991)\n",
    "\n",
    "SONG_IDS = {}\n",
    "for song in METALLICA_SONGS:\n",
    "    remove_remastered = len(song[\"name\"]) - len(\" (Remastered)\")\n",
    "    processed_name = song[\"name\"][0:remove_remastered]\n",
    "    SONG_IDS[processed_name] = song[\"id\"]"
   ]
  },
  {
   "cell_type": "code",
   "execution_count": 23,
   "id": "fb2be211-cedc-4dd5-b523-97b40c13594a",
   "metadata": {},
   "outputs": [],
   "source": [
    "# Match each cover on the Blacklist to its original\n",
    "\n",
    "for song in BLACKLIST_SONGS:\n",
    "    if song[\"name\"] in SONG_IDS:\n",
    "        song[\"originals\"] = [SONG_IDS[song[\"name\"]]]\n",
    "    else:\n",
    "        if song[\"name\"] == \"Sad But True (Live)\":\n",
    "            song[\"originals\"] = [SONG_IDS[\"Sad But True\"]]\n",
    "        elif song[\"name\"] == \"Don't Tread on Else Matters\":\n",
    "            song[\"originals\"] = [SONG_IDS[\"Don't Tread on Me\"], SONG_IDS[\"Nothing Else Matters\"]]\n",
    "\n",
    "f = open(\"all-songs.txt\", \"w\")\n",
    "f.write(json.dumps(BLACKLIST_SONGS, indent=4))\n",
    "f.close()"
   ]
  },
  {
   "cell_type": "code",
   "execution_count": 44,
   "id": "c9157ba6-4ff9-4c4e-a530-b396e78f89c5",
   "metadata": {},
   "outputs": [],
   "source": [
    "# Compare features of original and cover\n",
    "\n",
    "analysis_features = [\"danceability\", \"energy\", \"speechiness\", \"acousticness\", \"instrumentalness\", \"liveness\", \"valence\"]\n",
    "other_features = [\"key\", \"mode\", \"tempo\", \"loudness\"]\n",
    "\n",
    "csv_header = 'Title,Artists,Danceability,dDanceability,Energy,dEnergy,Speechiness,dSpeechiness,Acousticness,dAcousticness,Instrumentalness,dInstrumentalness,Liveness,dLiveness,Valence,dValence,Overall Difference,Key,dKey,Mode,dMode,Tempo,dTempo,Loudness, dLoudness\\n'\n",
    "csv_body = \"\"\n",
    "\n",
    "for song in BLACKLIST_SONGS:\n",
    "\n",
    "    csv = \"\"\n",
    "    \n",
    "    # This is just for me to look at\n",
    "    song_artists = \"\"\n",
    "    for artist in song['artists']:\n",
    "        song_artists += artist['name'] + \", \"\n",
    "    song_artists = song_artists[0:len(song_artists) - 2]\n",
    "    #song_display_name = song['name'] + \" by \" + song_artists\n",
    "    csv += f\"{song['name']},\\\"{song_artists}\\\",\"\n",
    "    \n",
    "    analysis = BLACKLIST_ANALYSIS[song['id']]\n",
    "\n",
    "    # Most songs are a cover of one song so for now I'm going to only compare it with the first \"original\"\n",
    "    original_analysis = METALLICA_ANALYSIS[song['originals'][0]]\n",
    "\n",
    "    overall_difference = 0\n",
    "    for feature in analysis_features:\n",
    "        original_feature = original_analysis[feature]\n",
    "        cover_feature = analysis[feature]\n",
    "        difference = cover_feature - original_feature\n",
    "        #print(f\"{feature.upper()}:\\tOriginal={original_feature},\\tCover={cover_feature},\\tDifference={difference}\")\n",
    "        overall_difference += difference ** 2\n",
    "        csv += f\"{cover_feature},{difference},\"\n",
    "    overall_difference = math.sqrt(overall_difference)\n",
    "    #print(\"OVERALL DIFFERENCE: \" + str(overall_difference))\n",
    "\n",
    "    csv += str(overall_difference) + \",\"\n",
    "\n",
    "    for feature in other_features:\n",
    "        original_feature = original_analysis[feature]\n",
    "        cover_feature = analysis[feature]\n",
    "        difference = cover_feature - original_feature\n",
    "        csv += f\"{cover_feature},{difference},\"\n",
    "    csv_body += csv + \"\\n\"\n",
    "\n",
    "f = open(\"feature_differences.csv\", \"w\")\n",
    "f.write(csv_header + csv_body)\n",
    "f.close()"
   ]
  }
 ],
 "metadata": {
  "kernelspec": {
   "display_name": "Python 3 (ipykernel)",
   "language": "python",
   "name": "python3"
  },
  "language_info": {
   "codemirror_mode": {
    "name": "ipython",
    "version": 3
   },
   "file_extension": ".py",
   "mimetype": "text/x-python",
   "name": "python",
   "nbconvert_exporter": "python",
   "pygments_lexer": "ipython3",
   "version": "3.12.1"
  }
 },
 "nbformat": 4,
 "nbformat_minor": 5
}
